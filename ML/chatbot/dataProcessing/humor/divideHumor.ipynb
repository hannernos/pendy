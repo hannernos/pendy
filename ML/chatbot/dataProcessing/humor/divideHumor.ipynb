{
 "cells": [
  {
   "cell_type": "code",
   "execution_count": 48,
   "id": "ab06716a",
   "metadata": {},
   "outputs": [],
   "source": [
    "import re\n",
    "import pandas as pd"
   ]
  },
  {
   "cell_type": "code",
   "execution_count": 49,
   "id": "878b8673",
   "metadata": {},
   "outputs": [],
   "source": [
    "file_path = './humor.txt'\n",
    "f = open(file_path, 'r',encoding='utf-8')\n",
    "plain_txt = f.read()\n",
    "f.close()"
   ]
  },
  {
   "cell_type": "code",
   "execution_count": 50,
   "id": "f0ab7972",
   "metadata": {},
   "outputs": [],
   "source": [
    "pattern = r'([0-9]\\.\\s)'"
   ]
  },
  {
   "cell_type": "code",
   "execution_count": 51,
   "id": "be0ad233",
   "metadata": {},
   "outputs": [],
   "source": [
    "chunks = re.split(pattern,plain_txt)"
   ]
  },
  {
   "cell_type": "code",
   "execution_count": 53,
   "id": "ed5b5578",
   "metadata": {},
   "outputs": [],
   "source": [
    "count = 1 \n",
    "for idx, txt in enumerate (chunks):\n",
    "    # 각각텍스트파일에 저장하기\n",
    "    \n",
    "    if((len(txt)>100)&(len(txt)<200)):\n",
    "        \n",
    "        \n",
    "        \n",
    "        lines = txt.strip().split('\\n')  # 텍스트를 줄 별로 분리\n",
    "\n",
    "        # 마지막 줄이 숫자로만 이루어져 있다면 제거\n",
    "        if lines[-1].isdigit():\n",
    "            lines.pop()\n",
    "        # 다시 하나의 문자열로 조합\n",
    "        cleaned_text = '\\n'.join(lines)\n",
    "        \n",
    "        \n",
    "        file_name = f\"humor{count}.txt\"\n",
    "        f = open(file_name, 'w',encoding='utf-8')\n",
    "        f.write(cleaned_text)\n",
    "        f.close()\n",
    "        count=count+1"
   ]
  },
  {
   "cell_type": "code",
   "execution_count": 42,
   "id": "615df8de",
   "metadata": {},
   "outputs": [
    {
     "data": {
      "text/plain": [
       "str"
      ]
     },
     "execution_count": 42,
     "metadata": {},
     "output_type": "execute_result"
    }
   ],
   "source": [
    "type(chunks[0])"
   ]
  },
  {
   "cell_type": "code",
   "execution_count": 43,
   "id": "7a01f3ac",
   "metadata": {},
   "outputs": [
    {
     "data": {
      "text/plain": [
       "321"
      ]
     },
     "execution_count": 43,
     "metadata": {},
     "output_type": "execute_result"
    }
   ],
   "source": [
    "len(chunks[2])"
   ]
  },
  {
   "cell_type": "code",
   "execution_count": null,
   "id": "43ae3eef",
   "metadata": {},
   "outputs": [],
   "source": []
  }
 ],
 "metadata": {
  "kernelspec": {
   "display_name": "Python 3 (ipykernel)",
   "language": "python",
   "name": "python3"
  },
  "language_info": {
   "codemirror_mode": {
    "name": "ipython",
    "version": 3
   },
   "file_extension": ".py",
   "mimetype": "text/x-python",
   "name": "python",
   "nbconvert_exporter": "python",
   "pygments_lexer": "ipython3",
   "version": "3.11.4"
  }
 },
 "nbformat": 4,
 "nbformat_minor": 5
}
